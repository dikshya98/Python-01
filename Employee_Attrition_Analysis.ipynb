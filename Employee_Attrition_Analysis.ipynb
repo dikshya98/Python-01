{
 "cells": [
  {
   "cell_type": "markdown",
   "id": "ff8945b2",
   "metadata": {},
   "source": [
    "# Employee Attrition Exploratory Data Analysis."
   ]
  },
  {
   "cell_type": "code",
   "execution_count": 1,
   "id": "89df73e4",
   "metadata": {},
   "outputs": [],
   "source": [
    "#pip install pandas\n",
    "#to install pandas or check if its already installed\n",
    "#This allows us to perform data analysis in jupyter"
   ]
  },
  {
   "cell_type": "code",
   "execution_count": 2,
   "id": "d01fe977",
   "metadata": {},
   "outputs": [],
   "source": [
    "import pandas as pd\n",
    "import numpy as np\n",
    "import seaborn as sns\n",
    "import matplotlib.pyplot as plt\n",
    "#numpy allows us to perform analysis on large data"
   ]
  },
  {
   "cell_type": "code",
   "execution_count": 3,
   "id": "844e1851",
   "metadata": {},
   "outputs": [],
   "source": [
    "data= pd.read_csv('/Users/dikshya/Desktop/Employeedata.csv') \n",
    " #importdataset and data is the name given for dataframe.it can be any name like df"
   ]
  },
  {
   "cell_type": "code",
   "execution_count": 4,
   "id": "04ca054d",
   "metadata": {},
   "outputs": [
    {
     "name": "stdout",
     "output_type": "stream",
     "text": [
      "<class 'pandas.core.frame.DataFrame'>\n",
      "RangeIndex: 14900 entries, 0 to 14899\n",
      "Data columns (total 24 columns):\n",
      " #   Column                     Non-Null Count  Dtype \n",
      "---  ------                     --------------  ----- \n",
      " 0   Employee_ID                14900 non-null  int64 \n",
      " 1   Age                        14900 non-null  int64 \n",
      " 2   Gender                     14900 non-null  object\n",
      " 3   Years                      14900 non-null  int64 \n",
      " 4   Role                       14900 non-null  object\n",
      " 5   Income                     14900 non-null  int64 \n",
      " 6   Worklife_Balance           14900 non-null  object\n",
      " 7   Job_Satisfaction           14900 non-null  object\n",
      " 8   Performance _Rating        14900 non-null  object\n",
      " 9    Promotions                14900 non-null  int64 \n",
      " 10  Overtime                   14900 non-null  object\n",
      " 11   Home_Distance             14900 non-null  int64 \n",
      " 12  Education                  14900 non-null  object\n",
      " 13  Marital_Status             14900 non-null  object\n",
      " 14  Dependents                 14900 non-null  int64 \n",
      " 15  Job_Level                  14900 non-null  object\n",
      " 16  Company_ Size              14900 non-null  object\n",
      " 17  Company_Tenure             14900 non-null  int64 \n",
      " 18  Remote_Work                14900 non-null  object\n",
      " 19  Leadership_Opportunities   14900 non-null  object\n",
      " 20  Innovation _Opportunities  14900 non-null  object\n",
      " 21  Company_Reputation         14900 non-null  object\n",
      " 22  Employee_Recognition       14900 non-null  object\n",
      " 23  Attrition                  14900 non-null  object\n",
      "dtypes: int64(8), object(16)\n",
      "memory usage: 2.7+ MB\n"
     ]
    }
   ],
   "source": [
    "data.info()"
   ]
  },
  {
   "cell_type": "markdown",
   "id": "cb7210ff",
   "metadata": {},
   "source": [
    "# Data Cleaning"
   ]
  },
  {
   "cell_type": "code",
   "execution_count": 5,
   "id": "86c88a46",
   "metadata": {},
   "outputs": [],
   "source": [
    "# Returns dataset removing duplicates\n",
    "data = data.drop_duplicates()\n"
   ]
  },
  {
   "cell_type": "code",
   "execution_count": 6,
   "id": "ab6c6f3c",
   "metadata": {},
   "outputs": [
    {
     "data": {
      "text/html": [
       "<div>\n",
       "<style scoped>\n",
       "    .dataframe tbody tr th:only-of-type {\n",
       "        vertical-align: middle;\n",
       "    }\n",
       "\n",
       "    .dataframe tbody tr th {\n",
       "        vertical-align: top;\n",
       "    }\n",
       "\n",
       "    .dataframe thead th {\n",
       "        text-align: right;\n",
       "    }\n",
       "</style>\n",
       "<table border=\"1\" class=\"dataframe\">\n",
       "  <thead>\n",
       "    <tr style=\"text-align: right;\">\n",
       "      <th></th>\n",
       "      <th>Employee_ID</th>\n",
       "      <th>Age</th>\n",
       "      <th>Gender</th>\n",
       "      <th>Years</th>\n",
       "      <th>Role</th>\n",
       "      <th>Income</th>\n",
       "      <th>Worklife_Balance</th>\n",
       "      <th>Job_Satisfaction</th>\n",
       "      <th>Performance _Rating</th>\n",
       "      <th>Promotions</th>\n",
       "      <th>...</th>\n",
       "      <th>Dependents</th>\n",
       "      <th>Job_Level</th>\n",
       "      <th>Company_ Size</th>\n",
       "      <th>Company_Tenure</th>\n",
       "      <th>Remote_Work</th>\n",
       "      <th>Leadership_Opportunities</th>\n",
       "      <th>Innovation _Opportunities</th>\n",
       "      <th>Company_Reputation</th>\n",
       "      <th>Employee_Recognition</th>\n",
       "      <th>Attrition</th>\n",
       "    </tr>\n",
       "  </thead>\n",
       "  <tbody>\n",
       "    <tr>\n",
       "      <th>0</th>\n",
       "      <td>False</td>\n",
       "      <td>False</td>\n",
       "      <td>False</td>\n",
       "      <td>False</td>\n",
       "      <td>False</td>\n",
       "      <td>False</td>\n",
       "      <td>False</td>\n",
       "      <td>False</td>\n",
       "      <td>False</td>\n",
       "      <td>False</td>\n",
       "      <td>...</td>\n",
       "      <td>False</td>\n",
       "      <td>False</td>\n",
       "      <td>False</td>\n",
       "      <td>False</td>\n",
       "      <td>False</td>\n",
       "      <td>False</td>\n",
       "      <td>False</td>\n",
       "      <td>False</td>\n",
       "      <td>False</td>\n",
       "      <td>False</td>\n",
       "    </tr>\n",
       "    <tr>\n",
       "      <th>1</th>\n",
       "      <td>False</td>\n",
       "      <td>False</td>\n",
       "      <td>False</td>\n",
       "      <td>False</td>\n",
       "      <td>False</td>\n",
       "      <td>False</td>\n",
       "      <td>False</td>\n",
       "      <td>False</td>\n",
       "      <td>False</td>\n",
       "      <td>False</td>\n",
       "      <td>...</td>\n",
       "      <td>False</td>\n",
       "      <td>False</td>\n",
       "      <td>False</td>\n",
       "      <td>False</td>\n",
       "      <td>False</td>\n",
       "      <td>False</td>\n",
       "      <td>False</td>\n",
       "      <td>False</td>\n",
       "      <td>False</td>\n",
       "      <td>False</td>\n",
       "    </tr>\n",
       "    <tr>\n",
       "      <th>2</th>\n",
       "      <td>False</td>\n",
       "      <td>False</td>\n",
       "      <td>False</td>\n",
       "      <td>False</td>\n",
       "      <td>False</td>\n",
       "      <td>False</td>\n",
       "      <td>False</td>\n",
       "      <td>False</td>\n",
       "      <td>False</td>\n",
       "      <td>False</td>\n",
       "      <td>...</td>\n",
       "      <td>False</td>\n",
       "      <td>False</td>\n",
       "      <td>False</td>\n",
       "      <td>False</td>\n",
       "      <td>False</td>\n",
       "      <td>False</td>\n",
       "      <td>False</td>\n",
       "      <td>False</td>\n",
       "      <td>False</td>\n",
       "      <td>False</td>\n",
       "    </tr>\n",
       "    <tr>\n",
       "      <th>3</th>\n",
       "      <td>False</td>\n",
       "      <td>False</td>\n",
       "      <td>False</td>\n",
       "      <td>False</td>\n",
       "      <td>False</td>\n",
       "      <td>False</td>\n",
       "      <td>False</td>\n",
       "      <td>False</td>\n",
       "      <td>False</td>\n",
       "      <td>False</td>\n",
       "      <td>...</td>\n",
       "      <td>False</td>\n",
       "      <td>False</td>\n",
       "      <td>False</td>\n",
       "      <td>False</td>\n",
       "      <td>False</td>\n",
       "      <td>False</td>\n",
       "      <td>False</td>\n",
       "      <td>False</td>\n",
       "      <td>False</td>\n",
       "      <td>False</td>\n",
       "    </tr>\n",
       "    <tr>\n",
       "      <th>4</th>\n",
       "      <td>False</td>\n",
       "      <td>False</td>\n",
       "      <td>False</td>\n",
       "      <td>False</td>\n",
       "      <td>False</td>\n",
       "      <td>False</td>\n",
       "      <td>False</td>\n",
       "      <td>False</td>\n",
       "      <td>False</td>\n",
       "      <td>False</td>\n",
       "      <td>...</td>\n",
       "      <td>False</td>\n",
       "      <td>False</td>\n",
       "      <td>False</td>\n",
       "      <td>False</td>\n",
       "      <td>False</td>\n",
       "      <td>False</td>\n",
       "      <td>False</td>\n",
       "      <td>False</td>\n",
       "      <td>False</td>\n",
       "      <td>False</td>\n",
       "    </tr>\n",
       "    <tr>\n",
       "      <th>...</th>\n",
       "      <td>...</td>\n",
       "      <td>...</td>\n",
       "      <td>...</td>\n",
       "      <td>...</td>\n",
       "      <td>...</td>\n",
       "      <td>...</td>\n",
       "      <td>...</td>\n",
       "      <td>...</td>\n",
       "      <td>...</td>\n",
       "      <td>...</td>\n",
       "      <td>...</td>\n",
       "      <td>...</td>\n",
       "      <td>...</td>\n",
       "      <td>...</td>\n",
       "      <td>...</td>\n",
       "      <td>...</td>\n",
       "      <td>...</td>\n",
       "      <td>...</td>\n",
       "      <td>...</td>\n",
       "      <td>...</td>\n",
       "      <td>...</td>\n",
       "    </tr>\n",
       "    <tr>\n",
       "      <th>14895</th>\n",
       "      <td>False</td>\n",
       "      <td>False</td>\n",
       "      <td>False</td>\n",
       "      <td>False</td>\n",
       "      <td>False</td>\n",
       "      <td>False</td>\n",
       "      <td>False</td>\n",
       "      <td>False</td>\n",
       "      <td>False</td>\n",
       "      <td>False</td>\n",
       "      <td>...</td>\n",
       "      <td>False</td>\n",
       "      <td>False</td>\n",
       "      <td>False</td>\n",
       "      <td>False</td>\n",
       "      <td>False</td>\n",
       "      <td>False</td>\n",
       "      <td>False</td>\n",
       "      <td>False</td>\n",
       "      <td>False</td>\n",
       "      <td>False</td>\n",
       "    </tr>\n",
       "    <tr>\n",
       "      <th>14896</th>\n",
       "      <td>False</td>\n",
       "      <td>False</td>\n",
       "      <td>False</td>\n",
       "      <td>False</td>\n",
       "      <td>False</td>\n",
       "      <td>False</td>\n",
       "      <td>False</td>\n",
       "      <td>False</td>\n",
       "      <td>False</td>\n",
       "      <td>False</td>\n",
       "      <td>...</td>\n",
       "      <td>False</td>\n",
       "      <td>False</td>\n",
       "      <td>False</td>\n",
       "      <td>False</td>\n",
       "      <td>False</td>\n",
       "      <td>False</td>\n",
       "      <td>False</td>\n",
       "      <td>False</td>\n",
       "      <td>False</td>\n",
       "      <td>False</td>\n",
       "    </tr>\n",
       "    <tr>\n",
       "      <th>14897</th>\n",
       "      <td>False</td>\n",
       "      <td>False</td>\n",
       "      <td>False</td>\n",
       "      <td>False</td>\n",
       "      <td>False</td>\n",
       "      <td>False</td>\n",
       "      <td>False</td>\n",
       "      <td>False</td>\n",
       "      <td>False</td>\n",
       "      <td>False</td>\n",
       "      <td>...</td>\n",
       "      <td>False</td>\n",
       "      <td>False</td>\n",
       "      <td>False</td>\n",
       "      <td>False</td>\n",
       "      <td>False</td>\n",
       "      <td>False</td>\n",
       "      <td>False</td>\n",
       "      <td>False</td>\n",
       "      <td>False</td>\n",
       "      <td>False</td>\n",
       "    </tr>\n",
       "    <tr>\n",
       "      <th>14898</th>\n",
       "      <td>False</td>\n",
       "      <td>False</td>\n",
       "      <td>False</td>\n",
       "      <td>False</td>\n",
       "      <td>False</td>\n",
       "      <td>False</td>\n",
       "      <td>False</td>\n",
       "      <td>False</td>\n",
       "      <td>False</td>\n",
       "      <td>False</td>\n",
       "      <td>...</td>\n",
       "      <td>False</td>\n",
       "      <td>False</td>\n",
       "      <td>False</td>\n",
       "      <td>False</td>\n",
       "      <td>False</td>\n",
       "      <td>False</td>\n",
       "      <td>False</td>\n",
       "      <td>False</td>\n",
       "      <td>False</td>\n",
       "      <td>False</td>\n",
       "    </tr>\n",
       "    <tr>\n",
       "      <th>14899</th>\n",
       "      <td>False</td>\n",
       "      <td>False</td>\n",
       "      <td>False</td>\n",
       "      <td>False</td>\n",
       "      <td>False</td>\n",
       "      <td>False</td>\n",
       "      <td>False</td>\n",
       "      <td>False</td>\n",
       "      <td>False</td>\n",
       "      <td>False</td>\n",
       "      <td>...</td>\n",
       "      <td>False</td>\n",
       "      <td>False</td>\n",
       "      <td>False</td>\n",
       "      <td>False</td>\n",
       "      <td>False</td>\n",
       "      <td>False</td>\n",
       "      <td>False</td>\n",
       "      <td>False</td>\n",
       "      <td>False</td>\n",
       "      <td>False</td>\n",
       "    </tr>\n",
       "  </tbody>\n",
       "</table>\n",
       "<p>14900 rows × 24 columns</p>\n",
       "</div>"
      ],
      "text/plain": [
       "       Employee_ID    Age  Gender  Years   Role  Income  Worklife_Balance  \\\n",
       "0            False  False   False  False  False   False             False   \n",
       "1            False  False   False  False  False   False             False   \n",
       "2            False  False   False  False  False   False             False   \n",
       "3            False  False   False  False  False   False             False   \n",
       "4            False  False   False  False  False   False             False   \n",
       "...            ...    ...     ...    ...    ...     ...               ...   \n",
       "14895        False  False   False  False  False   False             False   \n",
       "14896        False  False   False  False  False   False             False   \n",
       "14897        False  False   False  False  False   False             False   \n",
       "14898        False  False   False  False  False   False             False   \n",
       "14899        False  False   False  False  False   False             False   \n",
       "\n",
       "       Job_Satisfaction  Performance _Rating   Promotions  ...  Dependents  \\\n",
       "0                 False                False        False  ...       False   \n",
       "1                 False                False        False  ...       False   \n",
       "2                 False                False        False  ...       False   \n",
       "3                 False                False        False  ...       False   \n",
       "4                 False                False        False  ...       False   \n",
       "...                 ...                  ...          ...  ...         ...   \n",
       "14895             False                False        False  ...       False   \n",
       "14896             False                False        False  ...       False   \n",
       "14897             False                False        False  ...       False   \n",
       "14898             False                False        False  ...       False   \n",
       "14899             False                False        False  ...       False   \n",
       "\n",
       "       Job_Level  Company_ Size  Company_Tenure  Remote_Work  \\\n",
       "0          False          False           False        False   \n",
       "1          False          False           False        False   \n",
       "2          False          False           False        False   \n",
       "3          False          False           False        False   \n",
       "4          False          False           False        False   \n",
       "...          ...            ...             ...          ...   \n",
       "14895      False          False           False        False   \n",
       "14896      False          False           False        False   \n",
       "14897      False          False           False        False   \n",
       "14898      False          False           False        False   \n",
       "14899      False          False           False        False   \n",
       "\n",
       "       Leadership_Opportunities  Innovation _Opportunities  \\\n",
       "0                         False                      False   \n",
       "1                         False                      False   \n",
       "2                         False                      False   \n",
       "3                         False                      False   \n",
       "4                         False                      False   \n",
       "...                         ...                        ...   \n",
       "14895                     False                      False   \n",
       "14896                     False                      False   \n",
       "14897                     False                      False   \n",
       "14898                     False                      False   \n",
       "14899                     False                      False   \n",
       "\n",
       "       Company_Reputation  Employee_Recognition  Attrition  \n",
       "0                   False                 False      False  \n",
       "1                   False                 False      False  \n",
       "2                   False                 False      False  \n",
       "3                   False                 False      False  \n",
       "4                   False                 False      False  \n",
       "...                   ...                   ...        ...  \n",
       "14895               False                 False      False  \n",
       "14896               False                 False      False  \n",
       "14897               False                 False      False  \n",
       "14898               False                 False      False  \n",
       "14899               False                 False      False  \n",
       "\n",
       "[14900 rows x 24 columns]"
      ]
     },
     "execution_count": 6,
     "metadata": {},
     "output_type": "execute_result"
    }
   ],
   "source": [
    "#checking for null values\n",
    "data.isnull()\n"
   ]
  },
  {
   "cell_type": "markdown",
   "id": "b7e5da36",
   "metadata": {},
   "source": [
    "# Data Analysis"
   ]
  },
  {
   "cell_type": "code",
   "execution_count": 7,
   "id": "86a5cd79",
   "metadata": {},
   "outputs": [
    {
     "data": {
      "text/html": [
       "<div>\n",
       "<style scoped>\n",
       "    .dataframe tbody tr th:only-of-type {\n",
       "        vertical-align: middle;\n",
       "    }\n",
       "\n",
       "    .dataframe tbody tr th {\n",
       "        vertical-align: top;\n",
       "    }\n",
       "\n",
       "    .dataframe thead th {\n",
       "        text-align: right;\n",
       "    }\n",
       "</style>\n",
       "<table border=\"1\" class=\"dataframe\">\n",
       "  <thead>\n",
       "    <tr style=\"text-align: right;\">\n",
       "      <th></th>\n",
       "      <th>Employee_ID</th>\n",
       "      <th>Age</th>\n",
       "      <th>Years</th>\n",
       "      <th>Income</th>\n",
       "      <th>Promotions</th>\n",
       "      <th>Home_Distance</th>\n",
       "      <th>Dependents</th>\n",
       "      <th>Company_Tenure</th>\n",
       "    </tr>\n",
       "  </thead>\n",
       "  <tbody>\n",
       "    <tr>\n",
       "      <th>count</th>\n",
       "      <td>14900.000000</td>\n",
       "      <td>14900.000000</td>\n",
       "      <td>14900.000000</td>\n",
       "      <td>14900.000000</td>\n",
       "      <td>14900.000000</td>\n",
       "      <td>14900.000000</td>\n",
       "      <td>14900.000000</td>\n",
       "      <td>14900.000000</td>\n",
       "    </tr>\n",
       "    <tr>\n",
       "      <th>mean</th>\n",
       "      <td>37339.022081</td>\n",
       "      <td>38.385235</td>\n",
       "      <td>15.592416</td>\n",
       "      <td>7287.306040</td>\n",
       "      <td>0.834362</td>\n",
       "      <td>49.927315</td>\n",
       "      <td>1.659329</td>\n",
       "      <td>55.603624</td>\n",
       "    </tr>\n",
       "    <tr>\n",
       "      <th>std</th>\n",
       "      <td>21453.129293</td>\n",
       "      <td>12.097904</td>\n",
       "      <td>11.133792</td>\n",
       "      <td>2156.737934</td>\n",
       "      <td>0.996511</td>\n",
       "      <td>28.702307</td>\n",
       "      <td>1.545401</td>\n",
       "      <td>25.352807</td>\n",
       "    </tr>\n",
       "    <tr>\n",
       "      <th>min</th>\n",
       "      <td>5.000000</td>\n",
       "      <td>18.000000</td>\n",
       "      <td>1.000000</td>\n",
       "      <td>1226.000000</td>\n",
       "      <td>0.000000</td>\n",
       "      <td>1.000000</td>\n",
       "      <td>0.000000</td>\n",
       "      <td>2.000000</td>\n",
       "    </tr>\n",
       "    <tr>\n",
       "      <th>25%</th>\n",
       "      <td>18825.500000</td>\n",
       "      <td>28.000000</td>\n",
       "      <td>7.000000</td>\n",
       "      <td>5633.750000</td>\n",
       "      <td>0.000000</td>\n",
       "      <td>25.000000</td>\n",
       "      <td>0.000000</td>\n",
       "      <td>36.000000</td>\n",
       "    </tr>\n",
       "    <tr>\n",
       "      <th>50%</th>\n",
       "      <td>37433.000000</td>\n",
       "      <td>38.000000</td>\n",
       "      <td>13.000000</td>\n",
       "      <td>7332.000000</td>\n",
       "      <td>1.000000</td>\n",
       "      <td>50.000000</td>\n",
       "      <td>1.000000</td>\n",
       "      <td>56.000000</td>\n",
       "    </tr>\n",
       "    <tr>\n",
       "      <th>75%</th>\n",
       "      <td>55857.500000</td>\n",
       "      <td>49.000000</td>\n",
       "      <td>23.000000</td>\n",
       "      <td>8852.000000</td>\n",
       "      <td>2.000000</td>\n",
       "      <td>75.000000</td>\n",
       "      <td>3.000000</td>\n",
       "      <td>75.000000</td>\n",
       "    </tr>\n",
       "    <tr>\n",
       "      <th>max</th>\n",
       "      <td>74471.000000</td>\n",
       "      <td>59.000000</td>\n",
       "      <td>51.000000</td>\n",
       "      <td>15063.000000</td>\n",
       "      <td>4.000000</td>\n",
       "      <td>99.000000</td>\n",
       "      <td>6.000000</td>\n",
       "      <td>127.000000</td>\n",
       "    </tr>\n",
       "  </tbody>\n",
       "</table>\n",
       "</div>"
      ],
      "text/plain": [
       "        Employee_ID           Age         Years        Income    Promotions  \\\n",
       "count  14900.000000  14900.000000  14900.000000  14900.000000  14900.000000   \n",
       "mean   37339.022081     38.385235     15.592416   7287.306040      0.834362   \n",
       "std    21453.129293     12.097904     11.133792   2156.737934      0.996511   \n",
       "min        5.000000     18.000000      1.000000   1226.000000      0.000000   \n",
       "25%    18825.500000     28.000000      7.000000   5633.750000      0.000000   \n",
       "50%    37433.000000     38.000000     13.000000   7332.000000      1.000000   \n",
       "75%    55857.500000     49.000000     23.000000   8852.000000      2.000000   \n",
       "max    74471.000000     59.000000     51.000000  15063.000000      4.000000   \n",
       "\n",
       "        Home_Distance    Dependents  Company_Tenure  \n",
       "count    14900.000000  14900.000000    14900.000000  \n",
       "mean        49.927315      1.659329       55.603624  \n",
       "std         28.702307      1.545401       25.352807  \n",
       "min          1.000000      0.000000        2.000000  \n",
       "25%         25.000000      0.000000       36.000000  \n",
       "50%         50.000000      1.000000       56.000000  \n",
       "75%         75.000000      3.000000       75.000000  \n",
       "max         99.000000      6.000000      127.000000  "
      ]
     },
     "execution_count": 7,
     "metadata": {},
     "output_type": "execute_result"
    }
   ],
   "source": [
    "data.describe() #returns the statistical summary of the dataframe \n",
    "#count, mean, median (or 50th percentile) standard variation, min-max, "
   ]
  },
  {
   "cell_type": "markdown",
   "id": "3d04f9d0",
   "metadata": {},
   "source": [
    "The standard deviation refers to dispersion of data in relation to the mean/average.The distance bettween each data point and mean."
   ]
  },
  {
   "cell_type": "code",
   "execution_count": 8,
   "id": "ae8bcdf1",
   "metadata": {},
   "outputs": [
    {
     "data": {
      "text/html": [
       "<div>\n",
       "<style scoped>\n",
       "    .dataframe tbody tr th:only-of-type {\n",
       "        vertical-align: middle;\n",
       "    }\n",
       "\n",
       "    .dataframe tbody tr th {\n",
       "        vertical-align: top;\n",
       "    }\n",
       "\n",
       "    .dataframe thead th {\n",
       "        text-align: right;\n",
       "    }\n",
       "</style>\n",
       "<table border=\"1\" class=\"dataframe\">\n",
       "  <thead>\n",
       "    <tr style=\"text-align: right;\">\n",
       "      <th></th>\n",
       "      <th>Employee_ID</th>\n",
       "      <th>Age</th>\n",
       "      <th>Gender</th>\n",
       "      <th>Years</th>\n",
       "      <th>Role</th>\n",
       "      <th>Income</th>\n",
       "      <th>Worklife_Balance</th>\n",
       "      <th>Job_Satisfaction</th>\n",
       "      <th>Performance _Rating</th>\n",
       "      <th>Promotions</th>\n",
       "      <th>...</th>\n",
       "      <th>Dependents</th>\n",
       "      <th>Job_Level</th>\n",
       "      <th>Company_ Size</th>\n",
       "      <th>Company_Tenure</th>\n",
       "      <th>Remote_Work</th>\n",
       "      <th>Leadership_Opportunities</th>\n",
       "      <th>Innovation _Opportunities</th>\n",
       "      <th>Company_Reputation</th>\n",
       "      <th>Employee_Recognition</th>\n",
       "      <th>Attrition</th>\n",
       "    </tr>\n",
       "  </thead>\n",
       "  <tbody>\n",
       "    <tr>\n",
       "      <th>0</th>\n",
       "      <td>52685</td>\n",
       "      <td>36</td>\n",
       "      <td>Male</td>\n",
       "      <td>13</td>\n",
       "      <td>Healthcare</td>\n",
       "      <td>8029</td>\n",
       "      <td>Excellent</td>\n",
       "      <td>High</td>\n",
       "      <td>Average</td>\n",
       "      <td>1</td>\n",
       "      <td>...</td>\n",
       "      <td>1</td>\n",
       "      <td>Mid</td>\n",
       "      <td>Large</td>\n",
       "      <td>22</td>\n",
       "      <td>No</td>\n",
       "      <td>No</td>\n",
       "      <td>No</td>\n",
       "      <td>Poor</td>\n",
       "      <td>Medium</td>\n",
       "      <td>Stayed</td>\n",
       "    </tr>\n",
       "    <tr>\n",
       "      <th>1</th>\n",
       "      <td>30585</td>\n",
       "      <td>35</td>\n",
       "      <td>Male</td>\n",
       "      <td>7</td>\n",
       "      <td>Education</td>\n",
       "      <td>4563</td>\n",
       "      <td>Good</td>\n",
       "      <td>High</td>\n",
       "      <td>Average</td>\n",
       "      <td>1</td>\n",
       "      <td>...</td>\n",
       "      <td>4</td>\n",
       "      <td>Entry</td>\n",
       "      <td>Medium</td>\n",
       "      <td>27</td>\n",
       "      <td>No</td>\n",
       "      <td>No</td>\n",
       "      <td>No</td>\n",
       "      <td>Good</td>\n",
       "      <td>High</td>\n",
       "      <td>Left</td>\n",
       "    </tr>\n",
       "    <tr>\n",
       "      <th>2</th>\n",
       "      <td>54656</td>\n",
       "      <td>50</td>\n",
       "      <td>Male</td>\n",
       "      <td>7</td>\n",
       "      <td>Education</td>\n",
       "      <td>5583</td>\n",
       "      <td>Fair</td>\n",
       "      <td>High</td>\n",
       "      <td>Average</td>\n",
       "      <td>3</td>\n",
       "      <td>...</td>\n",
       "      <td>2</td>\n",
       "      <td>Senior</td>\n",
       "      <td>Medium</td>\n",
       "      <td>76</td>\n",
       "      <td>No</td>\n",
       "      <td>No</td>\n",
       "      <td>Yes</td>\n",
       "      <td>Good</td>\n",
       "      <td>Low</td>\n",
       "      <td>Stayed</td>\n",
       "    </tr>\n",
       "    <tr>\n",
       "      <th>3</th>\n",
       "      <td>33442</td>\n",
       "      <td>58</td>\n",
       "      <td>Male</td>\n",
       "      <td>44</td>\n",
       "      <td>Media</td>\n",
       "      <td>5525</td>\n",
       "      <td>Fair</td>\n",
       "      <td>Very High</td>\n",
       "      <td>High</td>\n",
       "      <td>0</td>\n",
       "      <td>...</td>\n",
       "      <td>4</td>\n",
       "      <td>Entry</td>\n",
       "      <td>Medium</td>\n",
       "      <td>96</td>\n",
       "      <td>No</td>\n",
       "      <td>No</td>\n",
       "      <td>No</td>\n",
       "      <td>Poor</td>\n",
       "      <td>Low</td>\n",
       "      <td>Left</td>\n",
       "    </tr>\n",
       "    <tr>\n",
       "      <th>4</th>\n",
       "      <td>15667</td>\n",
       "      <td>39</td>\n",
       "      <td>Male</td>\n",
       "      <td>24</td>\n",
       "      <td>Education</td>\n",
       "      <td>4604</td>\n",
       "      <td>Good</td>\n",
       "      <td>High</td>\n",
       "      <td>Average</td>\n",
       "      <td>0</td>\n",
       "      <td>...</td>\n",
       "      <td>6</td>\n",
       "      <td>Mid</td>\n",
       "      <td>Large</td>\n",
       "      <td>45</td>\n",
       "      <td>Yes</td>\n",
       "      <td>No</td>\n",
       "      <td>No</td>\n",
       "      <td>Good</td>\n",
       "      <td>High</td>\n",
       "      <td>Stayed</td>\n",
       "    </tr>\n",
       "    <tr>\n",
       "      <th>5</th>\n",
       "      <td>3496</td>\n",
       "      <td>45</td>\n",
       "      <td>Female</td>\n",
       "      <td>30</td>\n",
       "      <td>Healthcare</td>\n",
       "      <td>8104</td>\n",
       "      <td>Fair</td>\n",
       "      <td>High</td>\n",
       "      <td>Average</td>\n",
       "      <td>0</td>\n",
       "      <td>...</td>\n",
       "      <td>0</td>\n",
       "      <td>Senior</td>\n",
       "      <td>Large</td>\n",
       "      <td>75</td>\n",
       "      <td>No</td>\n",
       "      <td>No</td>\n",
       "      <td>No</td>\n",
       "      <td>Good</td>\n",
       "      <td>Low</td>\n",
       "      <td>Stayed</td>\n",
       "    </tr>\n",
       "    <tr>\n",
       "      <th>6</th>\n",
       "      <td>46775</td>\n",
       "      <td>22</td>\n",
       "      <td>Female</td>\n",
       "      <td>5</td>\n",
       "      <td>Healthcare</td>\n",
       "      <td>8700</td>\n",
       "      <td>Good</td>\n",
       "      <td>High</td>\n",
       "      <td>Average</td>\n",
       "      <td>0</td>\n",
       "      <td>...</td>\n",
       "      <td>0</td>\n",
       "      <td>Mid</td>\n",
       "      <td>Small</td>\n",
       "      <td>48</td>\n",
       "      <td>No</td>\n",
       "      <td>No</td>\n",
       "      <td>No</td>\n",
       "      <td>Poor</td>\n",
       "      <td>High</td>\n",
       "      <td>Stayed</td>\n",
       "    </tr>\n",
       "    <tr>\n",
       "      <th>7</th>\n",
       "      <td>72645</td>\n",
       "      <td>34</td>\n",
       "      <td>Female</td>\n",
       "      <td>15</td>\n",
       "      <td>Technology</td>\n",
       "      <td>11025</td>\n",
       "      <td>Fair</td>\n",
       "      <td>Medium</td>\n",
       "      <td>High</td>\n",
       "      <td>1</td>\n",
       "      <td>...</td>\n",
       "      <td>4</td>\n",
       "      <td>Entry</td>\n",
       "      <td>Large</td>\n",
       "      <td>16</td>\n",
       "      <td>No</td>\n",
       "      <td>No</td>\n",
       "      <td>No</td>\n",
       "      <td>Good</td>\n",
       "      <td>Low</td>\n",
       "      <td>Left</td>\n",
       "    </tr>\n",
       "    <tr>\n",
       "      <th>8</th>\n",
       "      <td>4941</td>\n",
       "      <td>48</td>\n",
       "      <td>Female</td>\n",
       "      <td>40</td>\n",
       "      <td>Technology</td>\n",
       "      <td>11452</td>\n",
       "      <td>Good</td>\n",
       "      <td>Medium</td>\n",
       "      <td>Below Average</td>\n",
       "      <td>0</td>\n",
       "      <td>...</td>\n",
       "      <td>1</td>\n",
       "      <td>Mid</td>\n",
       "      <td>Large</td>\n",
       "      <td>52</td>\n",
       "      <td>No</td>\n",
       "      <td>No</td>\n",
       "      <td>No</td>\n",
       "      <td>Good</td>\n",
       "      <td>Medium</td>\n",
       "      <td>Stayed</td>\n",
       "    </tr>\n",
       "    <tr>\n",
       "      <th>9</th>\n",
       "      <td>65181</td>\n",
       "      <td>55</td>\n",
       "      <td>Female</td>\n",
       "      <td>16</td>\n",
       "      <td>Media</td>\n",
       "      <td>5939</td>\n",
       "      <td>Poor</td>\n",
       "      <td>High</td>\n",
       "      <td>Average</td>\n",
       "      <td>0</td>\n",
       "      <td>...</td>\n",
       "      <td>1</td>\n",
       "      <td>Entry</td>\n",
       "      <td>Small</td>\n",
       "      <td>46</td>\n",
       "      <td>No</td>\n",
       "      <td>No</td>\n",
       "      <td>No</td>\n",
       "      <td>Good</td>\n",
       "      <td>High</td>\n",
       "      <td>Stayed</td>\n",
       "    </tr>\n",
       "  </tbody>\n",
       "</table>\n",
       "<p>10 rows × 24 columns</p>\n",
       "</div>"
      ],
      "text/plain": [
       "   Employee_ID  Age  Gender  Years        Role  Income Worklife_Balance  \\\n",
       "0        52685   36    Male     13  Healthcare    8029        Excellent   \n",
       "1        30585   35    Male      7   Education    4563             Good   \n",
       "2        54656   50    Male      7   Education    5583             Fair   \n",
       "3        33442   58    Male     44       Media    5525             Fair   \n",
       "4        15667   39    Male     24   Education    4604             Good   \n",
       "5         3496   45  Female     30  Healthcare    8104             Fair   \n",
       "6        46775   22  Female      5  Healthcare    8700             Good   \n",
       "7        72645   34  Female     15  Technology   11025             Fair   \n",
       "8         4941   48  Female     40  Technology   11452             Good   \n",
       "9        65181   55  Female     16       Media    5939             Poor   \n",
       "\n",
       "  Job_Satisfaction Performance _Rating   Promotions  ... Dependents  \\\n",
       "0             High             Average            1  ...          1   \n",
       "1             High             Average            1  ...          4   \n",
       "2             High             Average            3  ...          2   \n",
       "3        Very High                High            0  ...          4   \n",
       "4             High             Average            0  ...          6   \n",
       "5             High             Average            0  ...          0   \n",
       "6             High             Average            0  ...          0   \n",
       "7           Medium                High            1  ...          4   \n",
       "8           Medium       Below Average            0  ...          1   \n",
       "9             High             Average            0  ...          1   \n",
       "\n",
       "   Job_Level Company_ Size Company_Tenure  Remote_Work  \\\n",
       "0        Mid         Large             22           No   \n",
       "1      Entry        Medium             27           No   \n",
       "2     Senior        Medium             76           No   \n",
       "3      Entry        Medium             96           No   \n",
       "4        Mid         Large             45          Yes   \n",
       "5     Senior         Large             75           No   \n",
       "6        Mid         Small             48           No   \n",
       "7      Entry         Large             16           No   \n",
       "8        Mid         Large             52           No   \n",
       "9      Entry         Small             46           No   \n",
       "\n",
       "  Leadership_Opportunities Innovation _Opportunities  Company_Reputation  \\\n",
       "0                       No                        No                Poor   \n",
       "1                       No                        No                Good   \n",
       "2                       No                       Yes                Good   \n",
       "3                       No                        No                Poor   \n",
       "4                       No                        No                Good   \n",
       "5                       No                        No                Good   \n",
       "6                       No                        No                Poor   \n",
       "7                       No                        No                Good   \n",
       "8                       No                        No                Good   \n",
       "9                       No                        No                Good   \n",
       "\n",
       "  Employee_Recognition Attrition  \n",
       "0               Medium    Stayed  \n",
       "1                 High      Left  \n",
       "2                  Low    Stayed  \n",
       "3                  Low      Left  \n",
       "4                 High    Stayed  \n",
       "5                  Low    Stayed  \n",
       "6                 High    Stayed  \n",
       "7                  Low      Left  \n",
       "8               Medium    Stayed  \n",
       "9                 High    Stayed  \n",
       "\n",
       "[10 rows x 24 columns]"
      ]
     },
     "execution_count": 8,
     "metadata": {},
     "output_type": "execute_result"
    }
   ],
   "source": [
    "data.head(10)\n",
    "#first 10 columns"
   ]
  },
  {
   "cell_type": "code",
   "execution_count": 9,
   "id": "cb378bb2",
   "metadata": {},
   "outputs": [
    {
     "data": {
      "text/html": [
       "<div>\n",
       "<style scoped>\n",
       "    .dataframe tbody tr th:only-of-type {\n",
       "        vertical-align: middle;\n",
       "    }\n",
       "\n",
       "    .dataframe tbody tr th {\n",
       "        vertical-align: top;\n",
       "    }\n",
       "\n",
       "    .dataframe thead th {\n",
       "        text-align: right;\n",
       "    }\n",
       "</style>\n",
       "<table border=\"1\" class=\"dataframe\">\n",
       "  <thead>\n",
       "    <tr style=\"text-align: right;\">\n",
       "      <th></th>\n",
       "      <th>Employee_ID</th>\n",
       "      <th>Age</th>\n",
       "      <th>Gender</th>\n",
       "      <th>Years</th>\n",
       "      <th>Role</th>\n",
       "      <th>Income</th>\n",
       "      <th>Worklife_Balance</th>\n",
       "      <th>Job_Satisfaction</th>\n",
       "      <th>Performance _Rating</th>\n",
       "      <th>Promotions</th>\n",
       "      <th>...</th>\n",
       "      <th>Dependents</th>\n",
       "      <th>Job_Level</th>\n",
       "      <th>Company_ Size</th>\n",
       "      <th>Company_Tenure</th>\n",
       "      <th>Remote_Work</th>\n",
       "      <th>Leadership_Opportunities</th>\n",
       "      <th>Innovation _Opportunities</th>\n",
       "      <th>Company_Reputation</th>\n",
       "      <th>Employee_Recognition</th>\n",
       "      <th>Attrition</th>\n",
       "    </tr>\n",
       "  </thead>\n",
       "  <tbody>\n",
       "    <tr>\n",
       "      <th>14890</th>\n",
       "      <td>54362</td>\n",
       "      <td>30</td>\n",
       "      <td>Female</td>\n",
       "      <td>6</td>\n",
       "      <td>Media</td>\n",
       "      <td>6353</td>\n",
       "      <td>Fair</td>\n",
       "      <td>Medium</td>\n",
       "      <td>Below Average</td>\n",
       "      <td>0</td>\n",
       "      <td>...</td>\n",
       "      <td>3</td>\n",
       "      <td>Senior</td>\n",
       "      <td>Small</td>\n",
       "      <td>31</td>\n",
       "      <td>Yes</td>\n",
       "      <td>No</td>\n",
       "      <td>No</td>\n",
       "      <td>Good</td>\n",
       "      <td>Very High</td>\n",
       "      <td>Stayed</td>\n",
       "    </tr>\n",
       "    <tr>\n",
       "      <th>14891</th>\n",
       "      <td>44995</td>\n",
       "      <td>39</td>\n",
       "      <td>Male</td>\n",
       "      <td>25</td>\n",
       "      <td>Finance</td>\n",
       "      <td>11586</td>\n",
       "      <td>Good</td>\n",
       "      <td>High</td>\n",
       "      <td>Average</td>\n",
       "      <td>0</td>\n",
       "      <td>...</td>\n",
       "      <td>2</td>\n",
       "      <td>Entry</td>\n",
       "      <td>Medium</td>\n",
       "      <td>58</td>\n",
       "      <td>No</td>\n",
       "      <td>No</td>\n",
       "      <td>No</td>\n",
       "      <td>Good</td>\n",
       "      <td>Low</td>\n",
       "      <td>Left</td>\n",
       "    </tr>\n",
       "    <tr>\n",
       "      <th>14892</th>\n",
       "      <td>16169</td>\n",
       "      <td>47</td>\n",
       "      <td>Male</td>\n",
       "      <td>13</td>\n",
       "      <td>Education</td>\n",
       "      <td>4024</td>\n",
       "      <td>Fair</td>\n",
       "      <td>Low</td>\n",
       "      <td>Below Average</td>\n",
       "      <td>2</td>\n",
       "      <td>...</td>\n",
       "      <td>6</td>\n",
       "      <td>Mid</td>\n",
       "      <td>Large</td>\n",
       "      <td>24</td>\n",
       "      <td>Yes</td>\n",
       "      <td>No</td>\n",
       "      <td>Yes</td>\n",
       "      <td>Good</td>\n",
       "      <td>Medium</td>\n",
       "      <td>Stayed</td>\n",
       "    </tr>\n",
       "    <tr>\n",
       "      <th>14893</th>\n",
       "      <td>6323</td>\n",
       "      <td>34</td>\n",
       "      <td>Male</td>\n",
       "      <td>25</td>\n",
       "      <td>Media</td>\n",
       "      <td>6717</td>\n",
       "      <td>Good</td>\n",
       "      <td>High</td>\n",
       "      <td>High</td>\n",
       "      <td>1</td>\n",
       "      <td>...</td>\n",
       "      <td>0</td>\n",
       "      <td>Mid</td>\n",
       "      <td>Large</td>\n",
       "      <td>98</td>\n",
       "      <td>No</td>\n",
       "      <td>No</td>\n",
       "      <td>No</td>\n",
       "      <td>Good</td>\n",
       "      <td>Medium</td>\n",
       "      <td>Stayed</td>\n",
       "    </tr>\n",
       "    <tr>\n",
       "      <th>14894</th>\n",
       "      <td>68796</td>\n",
       "      <td>52</td>\n",
       "      <td>Male</td>\n",
       "      <td>13</td>\n",
       "      <td>Technology</td>\n",
       "      <td>9296</td>\n",
       "      <td>Poor</td>\n",
       "      <td>High</td>\n",
       "      <td>Average</td>\n",
       "      <td>1</td>\n",
       "      <td>...</td>\n",
       "      <td>1</td>\n",
       "      <td>Entry</td>\n",
       "      <td>Small</td>\n",
       "      <td>55</td>\n",
       "      <td>No</td>\n",
       "      <td>Yes</td>\n",
       "      <td>No</td>\n",
       "      <td>Poor</td>\n",
       "      <td>Low</td>\n",
       "      <td>Stayed</td>\n",
       "    </tr>\n",
       "    <tr>\n",
       "      <th>14895</th>\n",
       "      <td>16243</td>\n",
       "      <td>56</td>\n",
       "      <td>Female</td>\n",
       "      <td>42</td>\n",
       "      <td>Healthcare</td>\n",
       "      <td>7830</td>\n",
       "      <td>Poor</td>\n",
       "      <td>Medium</td>\n",
       "      <td>Average</td>\n",
       "      <td>0</td>\n",
       "      <td>...</td>\n",
       "      <td>0</td>\n",
       "      <td>Senior</td>\n",
       "      <td>Medium</td>\n",
       "      <td>60</td>\n",
       "      <td>No</td>\n",
       "      <td>No</td>\n",
       "      <td>No</td>\n",
       "      <td>Poor</td>\n",
       "      <td>Medium</td>\n",
       "      <td>Stayed</td>\n",
       "    </tr>\n",
       "    <tr>\n",
       "      <th>14896</th>\n",
       "      <td>47175</td>\n",
       "      <td>30</td>\n",
       "      <td>Female</td>\n",
       "      <td>15</td>\n",
       "      <td>Education</td>\n",
       "      <td>3856</td>\n",
       "      <td>Good</td>\n",
       "      <td>Medium</td>\n",
       "      <td>Average</td>\n",
       "      <td>2</td>\n",
       "      <td>...</td>\n",
       "      <td>0</td>\n",
       "      <td>Entry</td>\n",
       "      <td>Medium</td>\n",
       "      <td>20</td>\n",
       "      <td>No</td>\n",
       "      <td>No</td>\n",
       "      <td>No</td>\n",
       "      <td>Good</td>\n",
       "      <td>Medium</td>\n",
       "      <td>Left</td>\n",
       "    </tr>\n",
       "    <tr>\n",
       "      <th>14897</th>\n",
       "      <td>12409</td>\n",
       "      <td>52</td>\n",
       "      <td>Male</td>\n",
       "      <td>5</td>\n",
       "      <td>Education</td>\n",
       "      <td>5654</td>\n",
       "      <td>Good</td>\n",
       "      <td>Very High</td>\n",
       "      <td>Below Average</td>\n",
       "      <td>0</td>\n",
       "      <td>...</td>\n",
       "      <td>4</td>\n",
       "      <td>Mid</td>\n",
       "      <td>Small</td>\n",
       "      <td>7</td>\n",
       "      <td>No</td>\n",
       "      <td>No</td>\n",
       "      <td>No</td>\n",
       "      <td>Good</td>\n",
       "      <td>High</td>\n",
       "      <td>Left</td>\n",
       "    </tr>\n",
       "    <tr>\n",
       "      <th>14898</th>\n",
       "      <td>9554</td>\n",
       "      <td>18</td>\n",
       "      <td>Male</td>\n",
       "      <td>4</td>\n",
       "      <td>Education</td>\n",
       "      <td>5276</td>\n",
       "      <td>Fair</td>\n",
       "      <td>High</td>\n",
       "      <td>Average</td>\n",
       "      <td>0</td>\n",
       "      <td>...</td>\n",
       "      <td>3</td>\n",
       "      <td>Mid</td>\n",
       "      <td>Large</td>\n",
       "      <td>5</td>\n",
       "      <td>No</td>\n",
       "      <td>No</td>\n",
       "      <td>No</td>\n",
       "      <td>Poor</td>\n",
       "      <td>High</td>\n",
       "      <td>Stayed</td>\n",
       "    </tr>\n",
       "    <tr>\n",
       "      <th>14899</th>\n",
       "      <td>73042</td>\n",
       "      <td>59</td>\n",
       "      <td>Female</td>\n",
       "      <td>48</td>\n",
       "      <td>Education</td>\n",
       "      <td>3774</td>\n",
       "      <td>Good</td>\n",
       "      <td>High</td>\n",
       "      <td>Below Average</td>\n",
       "      <td>1</td>\n",
       "      <td>...</td>\n",
       "      <td>4</td>\n",
       "      <td>Mid</td>\n",
       "      <td>Large</td>\n",
       "      <td>118</td>\n",
       "      <td>No</td>\n",
       "      <td>No</td>\n",
       "      <td>No</td>\n",
       "      <td>Good</td>\n",
       "      <td>Very High</td>\n",
       "      <td>Left</td>\n",
       "    </tr>\n",
       "  </tbody>\n",
       "</table>\n",
       "<p>10 rows × 24 columns</p>\n",
       "</div>"
      ],
      "text/plain": [
       "       Employee_ID  Age  Gender  Years        Role  Income Worklife_Balance  \\\n",
       "14890        54362   30  Female      6       Media    6353             Fair   \n",
       "14891        44995   39    Male     25     Finance   11586             Good   \n",
       "14892        16169   47    Male     13   Education    4024             Fair   \n",
       "14893         6323   34    Male     25       Media    6717             Good   \n",
       "14894        68796   52    Male     13  Technology    9296             Poor   \n",
       "14895        16243   56  Female     42  Healthcare    7830             Poor   \n",
       "14896        47175   30  Female     15   Education    3856             Good   \n",
       "14897        12409   52    Male      5   Education    5654             Good   \n",
       "14898         9554   18    Male      4   Education    5276             Fair   \n",
       "14899        73042   59  Female     48   Education    3774             Good   \n",
       "\n",
       "      Job_Satisfaction Performance _Rating   Promotions  ... Dependents  \\\n",
       "14890           Medium       Below Average            0  ...          3   \n",
       "14891             High             Average            0  ...          2   \n",
       "14892              Low       Below Average            2  ...          6   \n",
       "14893             High                High            1  ...          0   \n",
       "14894             High             Average            1  ...          1   \n",
       "14895           Medium             Average            0  ...          0   \n",
       "14896           Medium             Average            2  ...          0   \n",
       "14897        Very High       Below Average            0  ...          4   \n",
       "14898             High             Average            0  ...          3   \n",
       "14899             High       Below Average            1  ...          4   \n",
       "\n",
       "       Job_Level Company_ Size Company_Tenure  Remote_Work  \\\n",
       "14890     Senior         Small             31          Yes   \n",
       "14891      Entry        Medium             58           No   \n",
       "14892        Mid         Large             24          Yes   \n",
       "14893        Mid         Large             98           No   \n",
       "14894      Entry         Small             55           No   \n",
       "14895     Senior        Medium             60           No   \n",
       "14896      Entry        Medium             20           No   \n",
       "14897        Mid         Small              7           No   \n",
       "14898        Mid         Large              5           No   \n",
       "14899        Mid         Large            118           No   \n",
       "\n",
       "      Leadership_Opportunities Innovation _Opportunities  Company_Reputation  \\\n",
       "14890                       No                        No                Good   \n",
       "14891                       No                        No                Good   \n",
       "14892                       No                       Yes                Good   \n",
       "14893                       No                        No                Good   \n",
       "14894                      Yes                        No                Poor   \n",
       "14895                       No                        No                Poor   \n",
       "14896                       No                        No                Good   \n",
       "14897                       No                        No                Good   \n",
       "14898                       No                        No                Poor   \n",
       "14899                       No                        No                Good   \n",
       "\n",
       "      Employee_Recognition Attrition  \n",
       "14890            Very High    Stayed  \n",
       "14891                  Low      Left  \n",
       "14892               Medium    Stayed  \n",
       "14893               Medium    Stayed  \n",
       "14894                  Low    Stayed  \n",
       "14895               Medium    Stayed  \n",
       "14896               Medium      Left  \n",
       "14897                 High      Left  \n",
       "14898                 High    Stayed  \n",
       "14899            Very High      Left  \n",
       "\n",
       "[10 rows x 24 columns]"
      ]
     },
     "execution_count": 9,
     "metadata": {},
     "output_type": "execute_result"
    }
   ],
   "source": [
    "data.tail(10)\n",
    "#last 10 columns"
   ]
  },
  {
   "cell_type": "code",
   "execution_count": 10,
   "id": "600cdcb3",
   "metadata": {},
   "outputs": [
    {
     "name": "stderr",
     "output_type": "stream",
     "text": [
      "/var/folders/fj/ssdknt516wndwtjgqd804jx00000gn/T/ipykernel_66792/3920377326.py:1: FutureWarning: Dropping of nuisance columns in DataFrame reductions (with 'numeric_only=None') is deprecated; in a future version this will raise TypeError.  Select only valid columns before calling the reduction.\n",
      "  data.mean()\n"
     ]
    },
    {
     "data": {
      "text/plain": [
       "Employee_ID       37339.022081\n",
       "Age                  38.385235\n",
       "Years                15.592416\n",
       "Income             7287.306040\n",
       " Promotions           0.834362\n",
       " Home_Distance       49.927315\n",
       "Dependents            1.659329\n",
       "Company_Tenure       55.603624\n",
       "dtype: float64"
      ]
     },
     "execution_count": 10,
     "metadata": {},
     "output_type": "execute_result"
    }
   ],
   "source": [
    "data.mean()\n",
    "#mean of dataset numerical values"
   ]
  },
  {
   "cell_type": "code",
   "execution_count": 11,
   "id": "92287729",
   "metadata": {},
   "outputs": [
    {
     "name": "stderr",
     "output_type": "stream",
     "text": [
      "/var/folders/fj/ssdknt516wndwtjgqd804jx00000gn/T/ipykernel_66792/51376076.py:1: FutureWarning: Dropping of nuisance columns in DataFrame reductions (with 'numeric_only=None') is deprecated; in a future version this will raise TypeError.  Select only valid columns before calling the reduction.\n",
      "  data.median()\n"
     ]
    },
    {
     "data": {
      "text/plain": [
       "Employee_ID       37433.0\n",
       "Age                  38.0\n",
       "Years                13.0\n",
       "Income             7332.0\n",
       " Promotions           1.0\n",
       " Home_Distance       50.0\n",
       "Dependents            1.0\n",
       "Company_Tenure       56.0\n",
       "dtype: float64"
      ]
     },
     "execution_count": 11,
     "metadata": {},
     "output_type": "execute_result"
    }
   ],
   "source": [
    "data.median()\n",
    " #median of dataset numerical values"
   ]
  },
  {
   "cell_type": "code",
   "execution_count": 12,
   "id": "40fd692a",
   "metadata": {},
   "outputs": [
    {
     "name": "stderr",
     "output_type": "stream",
     "text": [
      "/var/folders/fj/ssdknt516wndwtjgqd804jx00000gn/T/ipykernel_66792/644049177.py:6: FutureWarning: Dropping of nuisance columns in DataFrame reductions (with 'numeric_only=None') is deprecated; in a future version this will raise TypeError.  Select only valid columns before calling the reduction.\n",
      "  first_100.median()\n"
     ]
    },
    {
     "data": {
      "text/plain": [
       "Employee_ID       33233.0\n",
       "Age                  38.0\n",
       "Years                12.0\n",
       "Income             7756.0\n",
       " Promotions           1.0\n",
       " Home_Distance       50.0\n",
       "Dependents            1.5\n",
       "Company_Tenure       56.0\n",
       "dtype: float64"
      ]
     },
     "execution_count": 12,
     "metadata": {},
     "output_type": "execute_result"
    }
   ],
   "source": [
    "\n",
    "#Median of first 100\n",
    "\n",
    "#To calculate the first 100 datas median we calculate the first 100 using head functtion and use median function\n",
    "first_100 = data.head(100)\n",
    "\n",
    "first_100.median()"
   ]
  },
  {
   "cell_type": "markdown",
   "id": "ea00d525",
   "metadata": {},
   "source": [
    "### Since this dataset is about employee attrition lets see what is the percent of folks surveyed that left companies."
   ]
  },
  {
   "cell_type": "code",
   "execution_count": 13,
   "id": "eb011c75",
   "metadata": {},
   "outputs": [
    {
     "data": {
      "image/png": "[encoded data removed]",
      "text/plain": [
       "<Figure size 504x504 with 1 Axes>"
      ]
     },
     "metadata": {},
     "output_type": "display_data"
    }
   ],
   "source": [
    "#To create Attrition Pie Chart\n",
    "#Firstly count the attrition yes and no\n",
    "Attrition_Count=data['Attrition'].value_counts()\n",
    "labels = ['No Attrition', 'Attrition']\n",
    "sizes = Attrition_Count.values #This determines the size by value\n",
    "colors = ['skyblue', 'salmon']  # Colors for the pie slices\n",
    "\n",
    "# Create the pie chart\n",
    "plt.figure(figsize=(7, 7))\n",
    "plt.pie(sizes, labels=labels, autopct='%1.1f%%', startangle=140, colors=colors, explode=(0, 0.1))\n",
    "plt.title('Attrition Distribution', fontsize=15)\n",
    "plt.axis('equal')  # Equal aspect ratio ensures the pie chart is circular.\n",
    "plt.show()\n"
   ]
  },
  {
   "cell_type": "markdown",
   "id": "1dee0e35",
   "metadata": {},
   "source": [
    "## Interestingly enough,the numbers are pretty close.The number of people who did not leave is slightly higher by 6.6%."
   ]
  },
  {
   "cell_type": "markdown",
   "id": "1ca8031b",
   "metadata": {},
   "source": [
    "Lets explore on different categories"
   ]
  },
  {
   "cell_type": "markdown",
   "id": "07e500e1",
   "metadata": {},
   "source": [
    "# Remote Work"
   ]
  },
  {
   "cell_type": "code",
   "execution_count": 14,
   "id": "8f0d511c",
   "metadata": {},
   "outputs": [
    {
     "data": {
      "image/png": "[encoded data removed]",
      "text/plain": [
       "<Figure size 504x504 with 1 Axes>"
      ]
     },
     "metadata": {},
     "output_type": "display_data"
    }
   ],
   "source": [
    " #Pie to see Employee_RemoteworK   \n",
    "\n",
    "\n",
    "#Firstly count the attrition yes and no\n",
    "Remote_Work_count=data['Remote_Work'].value_counts()\n",
    "labels = ['Remote', 'Not_Remote']\n",
    "sizes = Remote_Work_count.values\n",
    "colors = ['yellow', 'grey']  # Colors for the pie slices\n",
    "\n",
    "# Create the pie chart\n",
    "plt.figure(figsize=(7, 7))\n",
    "plt.pie(sizes, labels=labels, autopct='%1.1f%%', startangle=140, colors=colors, explode=(0, 0.1))\n",
    "plt.title('Remote Work Status', fontsize=15)\n",
    "plt.axis('equal')  # Equal aspect ratio ensures the pie chart is circular.\n",
    "plt.show()\n",
    "\n"
   ]
  },
  {
   "cell_type": "markdown",
   "id": "be2356de",
   "metadata": {},
   "source": [
    "# Total Employees By Job Level"
   ]
  },
  {
   "cell_type": "code",
   "execution_count": 15,
   "id": "7ea7f10a",
   "metadata": {},
   "outputs": [
    {
     "name": "stdout",
     "output_type": "stream",
     "text": [
      "  Job_Level  Total_Employees\n",
      "0     Entry             5913\n",
      "1       Mid             5925\n",
      "2    Senior             3062\n"
     ]
    }
   ],
   "source": [
    "job_level_counts = data.groupby('Job_Level').size().reset_index(name='Total_Employees')\n",
    "\n",
    "# Step 3: Display the result\n",
    "print(job_level_counts)\n"
   ]
  },
  {
   "cell_type": "code",
   "execution_count": 16,
   "id": "3241fc94",
   "metadata": {},
   "outputs": [
    {
     "data": {
      "text/plain": [
       "<AxesSubplot:xlabel='Job_Level', ylabel='Total_Employees'>"
      ]
     },
     "execution_count": 16,
     "metadata": {},
     "output_type": "execute_result"
    },
    {
     "data": {
      "image/png": "[encoded data removed]",
      "text/plain": [
       "<Figure size 432x288 with 1 Axes>"
      ]
     },
     "metadata": {
      "needs_background": "light"
     },
     "output_type": "display_data"
    }
   ],
   "source": [
    "sns.barplot(x='Job_Level',y='Total_Employees',data= job_level_counts)"
   ]
  },
  {
   "cell_type": "markdown",
   "id": "aa4e82c6",
   "metadata": {},
   "source": [
    "We see most of the people in dataset are entry or mid level employees.The number of people working in senior level is few which is understandable because there are limited senior level positions in each company."
   ]
  },
  {
   "cell_type": "markdown",
   "id": "a7fa2edd",
   "metadata": {},
   "source": [
    "# Remote Work by Job Level"
   ]
  },
  {
   "cell_type": "code",
   "execution_count": 17,
   "id": "5f2ce825",
   "metadata": {},
   "outputs": [
    {
     "name": "stdout",
     "output_type": "stream",
     "text": [
      "Job_Level  Remote_Work\n",
      "Entry      No             4798\n",
      "           Yes            1115\n",
      "Mid        No             4772\n",
      "           Yes            1153\n",
      "Senior     No             2491\n",
      "           Yes             571\n",
      "dtype: int64\n"
     ]
    }
   ],
   "source": [
    "Remotework_Joblevel = data.groupby(['Job_Level', 'Remote_Work']).size()\n",
    "print(Remotework_Joblevel)\n"
   ]
  },
  {
   "cell_type": "markdown",
   "id": "7bebd324",
   "metadata": {},
   "source": [
    "Lets find if there may be any correlation between Job level and remote work status"
   ]
  },
  {
   "cell_type": "code",
   "execution_count": 18,
   "id": "14b6d0fa",
   "metadata": {},
   "outputs": [
    {
     "data": {
      "image/png": "[encoded data removed]",
      "text/plain": [
       "<Figure size 720x432 with 1 Axes>"
      ]
     },
     "metadata": {
      "needs_background": "light"
     },
     "output_type": "display_data"
    }
   ],
   "source": [
    "x = Remotework_Joblevel.plot.barh(stacked=True, figsize=(10, 6), colormap='rainbow')\n",
    "\n"
   ]
  },
  {
   "cell_type": "markdown",
   "id": "4a52b1d4",
   "metadata": {},
   "source": []
  },
  {
   "cell_type": "markdown",
   "id": "7ac3459c",
   "metadata": {},
   "source": [
    "In each job level we can see that most of the employees do not have a remote job.As mentioned above in this survey most of the responders "
   ]
  },
  {
   "cell_type": "markdown",
   "id": "eb4f3d44",
   "metadata": {},
   "source": [
    "# Promotions"
   ]
  },
  {
   "cell_type": "code",
   "execution_count": 19,
   "id": "585dad03",
   "metadata": {},
   "outputs": [
    {
     "name": "stdout",
     "output_type": "stream",
     "text": [
      "    Promotions  Number_of_promotions\n",
      "0            0                  7429\n",
      "1            1                  3716\n",
      "2            2                  2750\n",
      "3            3                   804\n",
      "4            4                   201\n"
     ]
    }
   ],
   "source": [
    "promotions_count = data.groupby(' Promotions').size().reset_index(name= 'Number_of_promotions')\n",
    "print (promotions_count)"
   ]
  },
  {
   "cell_type": "code",
   "execution_count": 20,
   "id": "347a1393",
   "metadata": {},
   "outputs": [
    {
     "data": {
      "text/plain": [
       "<AxesSubplot:xlabel=' Promotions', ylabel='Number_of_promotions'>"
      ]
     },
     "execution_count": 20,
     "metadata": {},
     "output_type": "execute_result"
    },
    {
     "data": {
      "image/png": "[encoded data removed]",
      "text/plain": [
       "<Figure size 432x288 with 1 Axes>"
      ]
     },
     "metadata": {
      "needs_background": "light"
     },
     "output_type": "display_data"
    }
   ],
   "source": [
    "sns.barplot(x= ' Promotions',y= 'Number_of_promotions',data=promotions_count)\n"
   ]
  },
  {
   "cell_type": "markdown",
   "id": "877cee38",
   "metadata": {},
   "source": [
    "When we were calculating the mean above,the mean for promotions was 0.834362 which is evident because as we see over 7000 of the survey respondents have not have as promotions in their career yet.This is quite surprising so see as the numbers are hugely different from one another."
   ]
  },
  {
   "cell_type": "code",
   "execution_count": 21,
   "id": "1ba353d7",
   "metadata": {},
   "outputs": [],
   "source": [
    "#sns.barplot(x='Role',y='Income',data)"
   ]
  },
  {
   "cell_type": "code",
   "execution_count": 22,
   "id": "c9762ba7",
   "metadata": {},
   "outputs": [
    {
     "name": "stderr",
     "output_type": "stream",
     "text": [
      "/Users/dikshya/opt/anaconda3/lib/python3.9/site-packages/seaborn/_decorators.py:36: FutureWarning: Pass the following variable as a keyword arg: x. From version 0.12, the only valid positional argument will be `data`, and passing other arguments without an explicit keyword will result in an error or misinterpretation.\n",
      "  warnings.warn(\n"
     ]
    },
    {
     "data": {
      "text/plain": [
       "<AxesSubplot:>"
      ]
     },
     "execution_count": 22,
     "metadata": {},
     "output_type": "execute_result"
    },
    {
     "data": {
      "image/png": "[encoded data removed]",
      "text/plain": [
       "<Figure size 432x288 with 1 Axes>"
      ]
     },
     "metadata": {
      "needs_background": "light"
     },
     "output_type": "display_data"
    }
   ],
   "source": [
    "sns.boxplot (Remotework_Joblevel)\n",
    "\n"
   ]
  },
  {
   "cell_type": "code",
   "execution_count": 23,
   "id": "67da2552",
   "metadata": {},
   "outputs": [
    {
     "data": {
      "text/plain": [
       "<AxesSubplot:xlabel='Remote_Work', ylabel='Income'>"
      ]
     },
     "execution_count": 23,
     "metadata": {},
     "output_type": "execute_result"
    },
    {
     "data": {
      "image/png": "[encoded data removed]",
      "text/plain": [
       "<Figure size 432x288 with 1 Axes>"
      ]
     },
     "metadata": {
      "needs_background": "light"
     },
     "output_type": "display_data"
    }
   ],
   "source": [
    "sns.boxplot(data=data,x='Remote_Work',y='Income')"
   ]
  },
  {
   "cell_type": "markdown",
   "id": "1505f209",
   "metadata": {},
   "source": [
    "# Highest  & Lowest Paid Job Fields"
   ]
  },
  {
   "cell_type": "code",
   "execution_count": 24,
   "id": "8c80d748",
   "metadata": {},
   "outputs": [
    {
     "data": {
      "text/plain": [
       "<AxesSubplot:xlabel='Role', ylabel='Income'>"
      ]
     },
     "execution_count": 24,
     "metadata": {},
     "output_type": "execute_result"
    },
    {
     "data": {
      "image/png": "[encoded data removed]",
      "text/plain": [
       "<Figure size 432x288 with 1 Axes>"
      ]
     },
     "metadata": {
      "needs_background": "light"
     },
     "output_type": "display_data"
    }
   ],
   "source": [
    "sns.barplot(x='Role',y='Income',data=data)"
   ]
  },
  {
   "cell_type": "code",
   "execution_count": 25,
   "id": "b2bfa373",
   "metadata": {},
   "outputs": [
    {
     "name": "stdout",
     "output_type": "stream",
     "text": [
      "Role\n",
      "Education     4489.901831\n",
      "Finance       8525.973340\n",
      "Healthcare    8004.900932\n",
      "Media         5994.212221\n",
      "Technology    9115.849541\n",
      "Name: Income, dtype: float64\n"
     ]
    }
   ],
   "source": [
    "income_average_role = data.groupby('Role')['Income'].mean()\n",
    "print(income_average_role)"
   ]
  },
  {
   "cell_type": "code",
   "execution_count": 26,
   "id": "d695857f",
   "metadata": {},
   "outputs": [
    {
     "data": {
      "image/png": "[encoded data removed]",
      "text/plain": [
       "<Figure size 432x288 with 1 Axes>"
      ]
     },
     "metadata": {
      "needs_background": "light"
     },
     "output_type": "display_data"
    }
   ],
   "source": [
    "lines = income_average_role.plot.line(x='Role', y='Income', title='Average Income by Role')\n"
   ]
  },
  {
   "cell_type": "code",
   "execution_count": 29,
   "id": "3cf89f2d",
   "metadata": {},
   "outputs": [
    {
     "name": "stdout",
     "output_type": "stream",
     "text": [
      "       Employee_ID  Income        Role\n",
      "14454        44059   15063     Finance\n",
      "8643         62836   14707     Finance\n",
      "12675         3283   14547     Finance\n",
      "10392        44579   14433     Finance\n",
      "1567         17091   14412  Technology\n",
      "...            ...     ...         ...\n",
      "6250         27194   11235  Technology\n",
      "11493        61907   11231  Technology\n",
      "5257         26439   11230  Technology\n",
      "12726        52076   11227     Finance\n",
      "12465        58886   11224  Technology\n",
      "\n",
      "[500 rows x 3 columns]\n"
     ]
    }
   ],
   "source": [
    "#Top  500 Highest Paid Employee and their role\n",
    "Highest=data.sort_values('Income',ascending=False) \n",
    "Top_500 = Highest.head(500)\n",
    "print(Top_500[['Employee_ID','Income','Role']])\n",
    "\n"
   ]
  },
  {
   "cell_type": "code",
   "execution_count": 30,
   "id": "302b8ec9",
   "metadata": {},
   "outputs": [
    {
     "name": "stdout",
     "output_type": "stream",
     "text": [
      "       Employee_ID  Income       Role\n",
      "656          31139    1226    Finance\n",
      "3403         42320    1253    Finance\n",
      "13260        53264    1503  Education\n",
      "280           1119    2030    Finance\n",
      "7389         64764    2044  Education\n",
      "...            ...     ...        ...\n",
      "9388         49316    3667  Education\n",
      "58            5719    3670  Education\n",
      "12834        36051    3670  Education\n",
      "12595        57897    3673  Education\n",
      "8398         70528    3673  Education\n",
      "\n",
      "[500 rows x 3 columns]\n"
     ]
    }
   ],
   "source": [
    "#Low 500 Highest Paid Employee and their role\n",
    "Lowest=data.sort_values('Income',ascending=True)\n",
    "Low_500=Lowest.head(500)\n",
    "print(Low_500[['Employee_ID','Income','Role']])"
   ]
  },
  {
   "cell_type": "code",
   "execution_count": 32,
   "id": "4f5d7c15",
   "metadata": {},
   "outputs": [
    {
     "data": {
      "text/plain": [
       "<AxesSubplot:xlabel='Role', ylabel='Income'>"
      ]
     },
     "execution_count": 32,
     "metadata": {},
     "output_type": "execute_result"
    },
    {
     "data": {
      "image/png": "[encoded data removed]",
      "text/plain": [
       "<Figure size 432x288 with 1 Axes>"
      ]
     },
     "metadata": {
      "needs_background": "light"
     },
     "output_type": "display_data"
    }
   ],
   "source": [
    "sns.barplot(x='Role',y='Income',data=Top_500)"
   ]
  },
  {
   "cell_type": "code",
   "execution_count": 31,
   "id": "d0637930",
   "metadata": {},
   "outputs": [
    {
     "data": {
      "text/plain": [
       "<AxesSubplot:xlabel='Role', ylabel='Income'>"
      ]
     },
     "execution_count": 31,
     "metadata": {},
     "output_type": "execute_result"
    },
    {
     "data": {
      "image/png": "[encoded data removed]",
      "text/plain": [
       "<Figure size 432x288 with 1 Axes>"
      ]
     },
     "metadata": {
      "needs_background": "light"
     },
     "output_type": "display_data"
    }
   ],
   "source": [
    "sns.barplot(x='Role',y='Income',data=Low_500)"
   ]
  },
  {
   "cell_type": "markdown",
   "id": "ca8dfb2b",
   "metadata": {},
   "source": [
    "Well its not surprising but we can conclude that tech sector and roles have the highest pay and education has the lowest average pay.On average tech roles have over double pay of what education sectors are paid.Affter that finance is the higher paid of the 5 fields we are analyzing.\n",
    "\n",
    "Interestingly enough finance also has lowest paid roles.It may be possible that alot of finance roles are bvased on commision or there maybe major ghgap between each job level.\n",
    "even when we did the sample of first 500 and last 500 data columnbs this analysis was consistent."
   ]
  },
  {
   "cell_type": "markdown",
   "id": "f98c0696",
   "metadata": {},
   "source": [
    "# Role ,Level and Income"
   ]
  },
  {
   "cell_type": "markdown",
   "id": "8af60ae5",
   "metadata": {},
   "source": [
    "Lets calculate average pay by job level and field to see if thgere is large gap in pay by level and field"
   ]
  },
  {
   "cell_type": "code",
   "execution_count": 33,
   "id": "51aa8078",
   "metadata": {},
   "outputs": [
    {
     "name": "stdout",
     "output_type": "stream",
     "text": [
      "Role        Job_Level\n",
      "Education   Entry        4465.832398\n",
      "            Mid          4500.071763\n",
      "            Senior       4516.469484\n",
      "Finance     Entry        8525.671838\n",
      "            Mid          8477.423029\n",
      "            Senior       8617.626761\n",
      "Healthcare  Entry        7999.267341\n",
      "            Mid          8010.240117\n",
      "            Senior       8005.639296\n",
      "Media       Entry        5971.364948\n",
      "            Mid          6011.242138\n",
      "            Senior       6006.090361\n",
      "Technology  Entry        9085.688602\n",
      "            Mid          9142.035433\n",
      "            Senior       9121.418605\n",
      "Name: Income, dtype: float64\n"
     ]
    }
   ],
   "source": [
    "\n",
    "Income_level_role = data.groupby(['Role', 'Job_Level'])['Income'].mean()\n",
    "print(Income_level_role)"
   ]
  },
  {
   "cell_type": "code",
   "execution_count": 34,
   "id": "b538fb69",
   "metadata": {},
   "outputs": [],
   "source": [
    "#sns.barplot(x=Income_level_role.index,  data = Income_level_role)\n",
    "\n",
    "            "
   ]
  },
  {
   "cell_type": "markdown",
   "id": "705b74bd",
   "metadata": {},
   "source": [
    "# Gender pay and job level "
   ]
  },
  {
   "cell_type": "code",
   "execution_count": 35,
   "id": "819264c9",
   "metadata": {},
   "outputs": [
    {
     "name": "stdout",
     "output_type": "stream",
     "text": [
      "Gender  Role        Job_Level  Years\n",
      "Female  Education   Entry      1         4231.555556\n",
      "                               2         4308.333333\n",
      "                               3         4503.200000\n",
      "                               4         4754.476190\n",
      "                               5         4443.086957\n",
      "                                            ...     \n",
      "Male    Technology  Senior     42        9320.333333\n",
      "                               43        9205.000000\n",
      "                               44        9037.666667\n",
      "                               45       10599.000000\n",
      "                               48        8889.500000\n",
      "Name: Income, Length: 1390, dtype: float64\n"
     ]
    }
   ],
   "source": [
    "income_gender_joblevel= data.groupby(['Gender','Role','Job_Level','Years'])['Income'].mean()\n",
    "print(income_gender_joblevel)"
   ]
  },
  {
   "cell_type": "code",
   "execution_count": 36,
   "id": "52ae5e72",
   "metadata": {},
   "outputs": [
    {
     "ename": "AttributeError",
     "evalue": "'Series' object has no attribute 'sns'",
     "output_type": "error",
     "traceback": [
      "\u001b[0;31m---------------------------------------------------------------------------\u001b[0m",
      "\u001b[0;31mAttributeError\u001b[0m                            Traceback (most recent call last)",
      "Input \u001b[0;32mIn [36]\u001b[0m, in \u001b[0;36m<cell line: 1>\u001b[0;34m()\u001b[0m\n\u001b[0;32m----> 1\u001b[0m \u001b[43mincome_gender_joblevel\u001b[49m\u001b[38;5;241;43m.\u001b[39;49m\u001b[43msns\u001b[49m\u001b[38;5;241m.\u001b[39mbarplot()\n",
      "File \u001b[0;32m~/opt/anaconda3/lib/python3.9/site-packages/pandas/core/generic.py:5575\u001b[0m, in \u001b[0;36mNDFrame.__getattr__\u001b[0;34m(self, name)\u001b[0m\n\u001b[1;32m   5568\u001b[0m \u001b[38;5;28;01mif\u001b[39;00m (\n\u001b[1;32m   5569\u001b[0m     name \u001b[38;5;129;01mnot\u001b[39;00m \u001b[38;5;129;01min\u001b[39;00m \u001b[38;5;28mself\u001b[39m\u001b[38;5;241m.\u001b[39m_internal_names_set\n\u001b[1;32m   5570\u001b[0m     \u001b[38;5;129;01mand\u001b[39;00m name \u001b[38;5;129;01mnot\u001b[39;00m \u001b[38;5;129;01min\u001b[39;00m \u001b[38;5;28mself\u001b[39m\u001b[38;5;241m.\u001b[39m_metadata\n\u001b[1;32m   5571\u001b[0m     \u001b[38;5;129;01mand\u001b[39;00m name \u001b[38;5;129;01mnot\u001b[39;00m \u001b[38;5;129;01min\u001b[39;00m \u001b[38;5;28mself\u001b[39m\u001b[38;5;241m.\u001b[39m_accessors\n\u001b[1;32m   5572\u001b[0m     \u001b[38;5;129;01mand\u001b[39;00m \u001b[38;5;28mself\u001b[39m\u001b[38;5;241m.\u001b[39m_info_axis\u001b[38;5;241m.\u001b[39m_can_hold_identifiers_and_holds_name(name)\n\u001b[1;32m   5573\u001b[0m ):\n\u001b[1;32m   5574\u001b[0m     \u001b[38;5;28;01mreturn\u001b[39;00m \u001b[38;5;28mself\u001b[39m[name]\n\u001b[0;32m-> 5575\u001b[0m \u001b[38;5;28;01mreturn\u001b[39;00m \u001b[38;5;28;43mobject\u001b[39;49m\u001b[38;5;241;43m.\u001b[39;49m\u001b[38;5;21;43m__getattribute__\u001b[39;49m\u001b[43m(\u001b[49m\u001b[38;5;28;43mself\u001b[39;49m\u001b[43m,\u001b[49m\u001b[43m \u001b[49m\u001b[43mname\u001b[49m\u001b[43m)\u001b[49m\n",
      "\u001b[0;31mAttributeError\u001b[0m: 'Series' object has no attribute 'sns'"
     ]
    }
   ],
   "source": [
    "income_gender_joblevel.sns.barplot()"
   ]
  },
  {
   "cell_type": "code",
   "execution_count": null,
   "id": "37690b94",
   "metadata": {
    "scrolled": true
   },
   "outputs": [],
   "source": [
    "correlation_matrix = data.corr()\n",
    "\n",
    "# Apply gradient to the correlation matrix\n",
    "correlation_matrix.style.background_gradient(cmap='coolwarm', axis=None)"
   ]
  },
  {
   "cell_type": "markdown",
   "id": "a2d9b3cf",
   "metadata": {},
   "source": [
    "**Experience and Tenure**: Employees with more experience (Years) tend to have higher company tenure.We can see a correlation of 0.444 However, this doesn’t directly correlate with income or promotions.\n",
    "\n",
    "**Minimal Influence of Promotions on Salary**: Promotions and salary (Income) have weak relationships, suggesting that promotions might not always lead to a significant increase in salary within this dataset.This is a very controversial take as we expect wit more responsibiliy comes a higher salary.\n",
    "\n",
    "**Dependents and Other Variables:** The number of dependents seems to have minimal effect on other variables like salary, tenure, and promotions.There are no significant positive or negative correlation.\n",
    "\n",
    "**Income and Experience:** There seems to be no clear link between Income and Years, suggesting that income might be more dependent on other factors (role, performance, etc.) than just experience.\n",
    "These"
   ]
  },
  {
   "cell_type": "code",
   "execution_count": 37,
   "id": "67318136",
   "metadata": {},
   "outputs": [
    {
     "ename": "KeyError",
     "evalue": "'Promotions'",
     "output_type": "error",
     "traceback": [
      "\u001b[0;31m---------------------------------------------------------------------------\u001b[0m",
      "\u001b[0;31mKeyError\u001b[0m                                  Traceback (most recent call last)",
      "File \u001b[0;32m~/opt/anaconda3/lib/python3.9/site-packages/pandas/core/indexes/base.py:3621\u001b[0m, in \u001b[0;36mIndex.get_loc\u001b[0;34m(self, key, method, tolerance)\u001b[0m\n\u001b[1;32m   3620\u001b[0m \u001b[38;5;28;01mtry\u001b[39;00m:\n\u001b[0;32m-> 3621\u001b[0m     \u001b[38;5;28;01mreturn\u001b[39;00m \u001b[38;5;28;43mself\u001b[39;49m\u001b[38;5;241;43m.\u001b[39;49m\u001b[43m_engine\u001b[49m\u001b[38;5;241;43m.\u001b[39;49m\u001b[43mget_loc\u001b[49m\u001b[43m(\u001b[49m\u001b[43mcasted_key\u001b[49m\u001b[43m)\u001b[49m\n\u001b[1;32m   3622\u001b[0m \u001b[38;5;28;01mexcept\u001b[39;00m \u001b[38;5;167;01mKeyError\u001b[39;00m \u001b[38;5;28;01mas\u001b[39;00m err:\n",
      "File \u001b[0;32m~/opt/anaconda3/lib/python3.9/site-packages/pandas/_libs/index.pyx:136\u001b[0m, in \u001b[0;36mpandas._libs.index.IndexEngine.get_loc\u001b[0;34m()\u001b[0m\n",
      "File \u001b[0;32m~/opt/anaconda3/lib/python3.9/site-packages/pandas/_libs/index.pyx:163\u001b[0m, in \u001b[0;36mpandas._libs.index.IndexEngine.get_loc\u001b[0;34m()\u001b[0m\n",
      "File \u001b[0;32mpandas/_libs/hashtable_class_helper.pxi:5198\u001b[0m, in \u001b[0;36mpandas._libs.hashtable.PyObjectHashTable.get_item\u001b[0;34m()\u001b[0m\n",
      "File \u001b[0;32mpandas/_libs/hashtable_class_helper.pxi:5206\u001b[0m, in \u001b[0;36mpandas._libs.hashtable.PyObjectHashTable.get_item\u001b[0;34m()\u001b[0m\n",
      "\u001b[0;31mKeyError\u001b[0m: 'Promotions'",
      "\nThe above exception was the direct cause of the following exception:\n",
      "\u001b[0;31mKeyError\u001b[0m                                  Traceback (most recent call last)",
      "Input \u001b[0;32mIn [37]\u001b[0m, in \u001b[0;36m<cell line: 1>\u001b[0;34m()\u001b[0m\n\u001b[0;32m----> 1\u001b[0m \u001b[43mdata\u001b[49m\u001b[38;5;241;43m.\u001b[39;49m\u001b[43mplot\u001b[49m\u001b[38;5;241;43m.\u001b[39;49m\u001b[43mline\u001b[49m\u001b[43m(\u001b[49m\u001b[38;5;124;43m'\u001b[39;49m\u001b[38;5;124;43mJob_Level\u001b[39;49m\u001b[38;5;124;43m'\u001b[39;49m\u001b[43m,\u001b[49m\u001b[38;5;124;43m'\u001b[39;49m\u001b[38;5;124;43mPromotions\u001b[39;49m\u001b[38;5;124;43m'\u001b[39;49m\u001b[43m)\u001b[49m\n",
      "File \u001b[0;32m~/opt/anaconda3/lib/python3.9/site-packages/pandas/plotting/_core.py:1041\u001b[0m, in \u001b[0;36mPlotAccessor.line\u001b[0;34m(self, x, y, **kwargs)\u001b[0m\n\u001b[1;32m    976\u001b[0m \u001b[38;5;129m@Appender\u001b[39m(\n\u001b[1;32m    977\u001b[0m     \u001b[38;5;124;03m\"\"\"\u001b[39;00m\n\u001b[1;32m    978\u001b[0m \u001b[38;5;124;03m    See Also\u001b[39;00m\n\u001b[0;32m   (...)\u001b[0m\n\u001b[1;32m   1033\u001b[0m \u001b[38;5;129m@Appender\u001b[39m(_bar_or_line_doc)\n\u001b[1;32m   1034\u001b[0m \u001b[38;5;28;01mdef\u001b[39;00m \u001b[38;5;21mline\u001b[39m(\u001b[38;5;28mself\u001b[39m, x\u001b[38;5;241m=\u001b[39m\u001b[38;5;28;01mNone\u001b[39;00m, y\u001b[38;5;241m=\u001b[39m\u001b[38;5;28;01mNone\u001b[39;00m, \u001b[38;5;241m*\u001b[39m\u001b[38;5;241m*\u001b[39mkwargs):\n\u001b[1;32m   1035\u001b[0m     \u001b[38;5;124;03m\"\"\"\u001b[39;00m\n\u001b[1;32m   1036\u001b[0m \u001b[38;5;124;03m    Plot Series or DataFrame as lines.\u001b[39;00m\n\u001b[1;32m   1037\u001b[0m \n\u001b[1;32m   1038\u001b[0m \u001b[38;5;124;03m    This function is useful to plot lines using DataFrame's values\u001b[39;00m\n\u001b[1;32m   1039\u001b[0m \u001b[38;5;124;03m    as coordinates.\u001b[39;00m\n\u001b[1;32m   1040\u001b[0m \u001b[38;5;124;03m    \"\"\"\u001b[39;00m\n\u001b[0;32m-> 1041\u001b[0m     \u001b[38;5;28;01mreturn\u001b[39;00m \u001b[38;5;28;43mself\u001b[39;49m\u001b[43m(\u001b[49m\u001b[43mkind\u001b[49m\u001b[38;5;241;43m=\u001b[39;49m\u001b[38;5;124;43m\"\u001b[39;49m\u001b[38;5;124;43mline\u001b[39;49m\u001b[38;5;124;43m\"\u001b[39;49m\u001b[43m,\u001b[49m\u001b[43m \u001b[49m\u001b[43mx\u001b[49m\u001b[38;5;241;43m=\u001b[39;49m\u001b[43mx\u001b[49m\u001b[43m,\u001b[49m\u001b[43m \u001b[49m\u001b[43my\u001b[49m\u001b[38;5;241;43m=\u001b[39;49m\u001b[43my\u001b[49m\u001b[43m,\u001b[49m\u001b[43m \u001b[49m\u001b[38;5;241;43m*\u001b[39;49m\u001b[38;5;241;43m*\u001b[39;49m\u001b[43mkwargs\u001b[49m\u001b[43m)\u001b[49m\n",
      "File \u001b[0;32m~/opt/anaconda3/lib/python3.9/site-packages/pandas/plotting/_core.py:958\u001b[0m, in \u001b[0;36mPlotAccessor.__call__\u001b[0;34m(self, *args, **kwargs)\u001b[0m\n\u001b[1;32m    955\u001b[0m             \u001b[38;5;28;01mpass\u001b[39;00m\n\u001b[1;32m    957\u001b[0m \u001b[38;5;66;03m# don't overwrite\u001b[39;00m\n\u001b[0;32m--> 958\u001b[0m data \u001b[38;5;241m=\u001b[39m \u001b[43mdata\u001b[49m\u001b[43m[\u001b[49m\u001b[43my\u001b[49m\u001b[43m]\u001b[49m\u001b[38;5;241m.\u001b[39mcopy()\n\u001b[1;32m    960\u001b[0m \u001b[38;5;28;01mif\u001b[39;00m \u001b[38;5;28misinstance\u001b[39m(data, ABCSeries):\n\u001b[1;32m    961\u001b[0m     label_name \u001b[38;5;241m=\u001b[39m label_kw \u001b[38;5;129;01mor\u001b[39;00m y\n",
      "File \u001b[0;32m~/opt/anaconda3/lib/python3.9/site-packages/pandas/core/frame.py:3505\u001b[0m, in \u001b[0;36mDataFrame.__getitem__\u001b[0;34m(self, key)\u001b[0m\n\u001b[1;32m   3503\u001b[0m \u001b[38;5;28;01mif\u001b[39;00m \u001b[38;5;28mself\u001b[39m\u001b[38;5;241m.\u001b[39mcolumns\u001b[38;5;241m.\u001b[39mnlevels \u001b[38;5;241m>\u001b[39m \u001b[38;5;241m1\u001b[39m:\n\u001b[1;32m   3504\u001b[0m     \u001b[38;5;28;01mreturn\u001b[39;00m \u001b[38;5;28mself\u001b[39m\u001b[38;5;241m.\u001b[39m_getitem_multilevel(key)\n\u001b[0;32m-> 3505\u001b[0m indexer \u001b[38;5;241m=\u001b[39m \u001b[38;5;28;43mself\u001b[39;49m\u001b[38;5;241;43m.\u001b[39;49m\u001b[43mcolumns\u001b[49m\u001b[38;5;241;43m.\u001b[39;49m\u001b[43mget_loc\u001b[49m\u001b[43m(\u001b[49m\u001b[43mkey\u001b[49m\u001b[43m)\u001b[49m\n\u001b[1;32m   3506\u001b[0m \u001b[38;5;28;01mif\u001b[39;00m is_integer(indexer):\n\u001b[1;32m   3507\u001b[0m     indexer \u001b[38;5;241m=\u001b[39m [indexer]\n",
      "File \u001b[0;32m~/opt/anaconda3/lib/python3.9/site-packages/pandas/core/indexes/base.py:3623\u001b[0m, in \u001b[0;36mIndex.get_loc\u001b[0;34m(self, key, method, tolerance)\u001b[0m\n\u001b[1;32m   3621\u001b[0m     \u001b[38;5;28;01mreturn\u001b[39;00m \u001b[38;5;28mself\u001b[39m\u001b[38;5;241m.\u001b[39m_engine\u001b[38;5;241m.\u001b[39mget_loc(casted_key)\n\u001b[1;32m   3622\u001b[0m \u001b[38;5;28;01mexcept\u001b[39;00m \u001b[38;5;167;01mKeyError\u001b[39;00m \u001b[38;5;28;01mas\u001b[39;00m err:\n\u001b[0;32m-> 3623\u001b[0m     \u001b[38;5;28;01mraise\u001b[39;00m \u001b[38;5;167;01mKeyError\u001b[39;00m(key) \u001b[38;5;28;01mfrom\u001b[39;00m \u001b[38;5;21;01merr\u001b[39;00m\n\u001b[1;32m   3624\u001b[0m \u001b[38;5;28;01mexcept\u001b[39;00m \u001b[38;5;167;01mTypeError\u001b[39;00m:\n\u001b[1;32m   3625\u001b[0m     \u001b[38;5;66;03m# If we have a listlike key, _check_indexing_error will raise\u001b[39;00m\n\u001b[1;32m   3626\u001b[0m     \u001b[38;5;66;03m#  InvalidIndexError. Otherwise we fall through and re-raise\u001b[39;00m\n\u001b[1;32m   3627\u001b[0m     \u001b[38;5;66;03m#  the TypeError.\u001b[39;00m\n\u001b[1;32m   3628\u001b[0m     \u001b[38;5;28mself\u001b[39m\u001b[38;5;241m.\u001b[39m_check_indexing_error(key)\n",
      "\u001b[0;31mKeyError\u001b[0m: 'Promotions'"
     ]
    }
   ],
   "source": [
    "data.plot.line('Job_Level','Promotions')"
   ]
  },
  {
   "cell_type": "code",
   "execution_count": null,
   "id": "42034368",
   "metadata": {},
   "outputs": [],
   "source": []
  },
  {
   "cell_type": "code",
   "execution_count": null,
   "id": "d7e8da3d",
   "metadata": {},
   "outputs": [],
   "source": [
    "#Change Categorical Columns Into Numerical\n",
    "\n",
    "new_data = pd.get_dummies(data[['Attrition']])\n",
    "\n",
    "print(new_data.to_string())"
   ]
  },
  {
   "cell_type": "code",
   "execution_count": null,
   "id": "3e629a7d",
   "metadata": {},
   "outputs": [],
   "source": [
    "# Correlation plot correlation = data['Income'].corr(data['new_data'])\n",
    "print(\"correlation between Income and Home Distance: {'correlation'}\")"
   ]
  },
  {
   "cell_type": "code",
   "execution_count": null,
   "id": "12361734",
   "metadata": {},
   "outputs": [],
   "source": [
    "Attrition_Count=data.Attrition"
   ]
  },
  {
   "cell_type": "code",
   "execution_count": null,
   "id": "707c0636",
   "metadata": {},
   "outputs": [],
   "source": []
  },
  {
   "cell_type": "code",
   "execution_count": null,
   "id": "1d410dcb",
   "metadata": {},
   "outputs": [],
   "source": []
  },
  {
   "cell_type": "code",
   "execution_count": null,
   "id": "9619354c",
   "metadata": {},
   "outputs": [],
   "source": []
  },
  {
   "cell_type": "code",
   "execution_count": null,
   "id": "a8ad6fa8",
   "metadata": {},
   "outputs": [],
   "source": []
  },
  {
   "cell_type": "code",
   "execution_count": null,
   "id": "a07a1ce5",
   "metadata": {},
   "outputs": [],
   "source": []
  },
  {
   "cell_type": "code",
   "execution_count": null,
   "id": "6fac0f9b",
   "metadata": {},
   "outputs": [],
   "source": []
  }
 ],
 "metadata": {
  "kernelspec": {
   "display_name": "Python 3 (ipykernel)",
   "language": "python",
   "name": "python3"
  },
  "language_info": {
   "codemirror_mode": {
    "name": "ipython",
    "version": 3
   },
   "file_extension": ".py",
   "mimetype": "text/x-python",
   "name": "python",
   "nbconvert_exporter": "python",
   "pygments_lexer": "ipython3",
   "version": "3.9.12"
  }
 },
 "nbformat": 4,
 "nbformat_minor": 5
}
